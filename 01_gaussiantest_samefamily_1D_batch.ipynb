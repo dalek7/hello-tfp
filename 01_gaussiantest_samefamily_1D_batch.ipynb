{
 "cells": [
  {
   "cell_type": "code",
   "execution_count": 1,
   "metadata": {},
   "outputs": [],
   "source": [
    "import tensorflow as tf\n",
    "import tensorflow_probability as tfp\n",
    "tfd = tfp.distributions\n",
    "import numpy as np\n",
    "import matplotlib.pyplot as plt"
   ]
  },
  {
   "cell_type": "code",
   "execution_count": 2,
   "metadata": {},
   "outputs": [
    {
     "data": {
      "text/plain": [
       "('2.3.0', '0.11.0')"
      ]
     },
     "execution_count": 2,
     "metadata": {},
     "output_type": "execute_result"
    }
   ],
   "source": [
    "tf.__version__, tfp.__version__"
   ]
  },
  {
   "cell_type": "code",
   "execution_count": 3,
   "metadata": {},
   "outputs": [],
   "source": [
    "mu = [[1, 1.7],\n",
    "      [-0.5, 1.2],\n",
    "      [-1, 1]] #batch 3개"
   ]
  },
  {
   "cell_type": "code",
   "execution_count": 4,
   "metadata": {},
   "outputs": [
    {
     "data": {
      "text/plain": [
       "(3, 2)"
      ]
     },
     "execution_count": 4,
     "metadata": {},
     "output_type": "execute_result"
    }
   ],
   "source": [
    "np.shape(mu)"
   ]
  },
  {
   "cell_type": "code",
   "execution_count": 5,
   "metadata": {},
   "outputs": [],
   "source": [
    "scale=[0.1, 0.5]\n",
    "scale = [scale, scale, scale]"
   ]
  },
  {
   "cell_type": "code",
   "execution_count": 6,
   "metadata": {},
   "outputs": [
    {
     "data": {
      "text/plain": [
       "([[0.1, 0.5], [0.1, 0.5], [0.1, 0.5]], (3, 2))"
      ]
     },
     "execution_count": 6,
     "metadata": {},
     "output_type": "execute_result"
    }
   ],
   "source": [
    "scale, np.shape(scale)"
   ]
  },
  {
   "cell_type": "code",
   "execution_count": 7,
   "metadata": {},
   "outputs": [],
   "source": [
    "probs=[0.3, 0.7]"
   ]
  },
  {
   "cell_type": "code",
   "execution_count": 8,
   "metadata": {},
   "outputs": [],
   "source": [
    "tfd = tfp.distributions\n"
   ]
  },
  {
   "cell_type": "markdown",
   "metadata": {},
   "source": [
    "### Create a mixture of two scalar Gaussians:"
   ]
  },
  {
   "cell_type": "markdown",
   "metadata": {},
   "source": [
    "The MixtureSameFamily distribution implements a (batch of) mixture distribution where all components are from different parameterizations of the same distribution type. "
   ]
  },
  {
   "cell_type": "code",
   "execution_count": 9,
   "metadata": {},
   "outputs": [],
   "source": [
    "gmm = tfd.MixtureSameFamily(\n",
    "    mixture_distribution=tfd.Categorical(probs=probs),\n",
    "    components_distribution=tfd.Normal(loc=mu,       # One for each component.\n",
    "                                       scale=scale))  # And same here."
   ]
  },
  {
   "cell_type": "code",
   "execution_count": 10,
   "metadata": {},
   "outputs": [
    {
     "data": {
      "text/plain": [
       "<tf.Tensor: shape=(10, 3), dtype=float32, numpy=\n",
       "array([[ 1.8299046 ,  0.96368396,  1.0942062 ],\n",
       "       [ 1.2261534 ,  1.0434849 ,  1.188969  ],\n",
       "       [ 0.94545966, -0.44770697, -1.0185331 ],\n",
       "       [ 1.7872185 ,  0.75921476,  0.89997154],\n",
       "       [ 0.97230434, -0.6340124 , -0.9507967 ],\n",
       "       [ 1.2260321 , -0.49460417, -1.1232883 ],\n",
       "       [ 0.97968554,  1.0982053 ,  1.5894854 ],\n",
       "       [ 1.922982  ,  0.97652626,  0.8258351 ],\n",
       "       [ 1.7415067 ,  2.202879  ,  2.134368  ],\n",
       "       [ 1.0644113 , -0.5018674 , -1.1412112 ]], dtype=float32)>"
      ]
     },
     "execution_count": 10,
     "metadata": {},
     "output_type": "execute_result"
    }
   ],
   "source": [
    "gmm.sample(10)"
   ]
  },
  {
   "cell_type": "markdown",
   "metadata": {},
   "source": [
    "위의 결과 출력은\n",
    "shape=(10, 3)\n",
    "인데, (T,B) "
   ]
  },
  {
   "cell_type": "code",
   "execution_count": 11,
   "metadata": {},
   "outputs": [
    {
     "name": "stdout",
     "output_type": "stream",
     "text": [
      "tf.Tensor([0.5585192  0.33875898 0.20961843], shape=(3,), dtype=float32)\n"
     ]
    }
   ],
   "source": [
    "v = gmm.prob([1.7])\n",
    "print(v)"
   ]
  },
  {
   "cell_type": "code",
   "execution_count": 12,
   "metadata": {},
   "outputs": [
    {
     "name": "stdout",
     "output_type": "stream",
     "text": [
      "(2, 1)\n",
      "tf.Tensor(\n",
      "[[0.5585192  0.33875898 0.20961843]\n",
      " [0.08888289 0.33875898 0.4665144 ]], shape=(2, 3), dtype=float32)\n"
     ]
    }
   ],
   "source": [
    "a = [[1.7], [0.7]]\n",
    "print(np.shape(a))\n",
    "v = gmm.prob(a)\n",
    "\n",
    "print(v)"
   ]
  },
  {
   "cell_type": "code",
   "execution_count": 13,
   "metadata": {},
   "outputs": [
    {
     "name": "stdout",
     "output_type": "stream",
     "text": [
      "(200, 1)\n"
     ]
    }
   ],
   "source": [
    "x0 = np.linspace(-2, 3, 200)\n",
    "#x0 = np.linspace(-8+1, 8+1, 100)\n",
    "x = x0.reshape( (-1,1))\n",
    "print(x.shape)"
   ]
  },
  {
   "cell_type": "code",
   "execution_count": 14,
   "metadata": {},
   "outputs": [
    {
     "data": {
      "text/plain": [
       "Text(0.5, 1.0, 'gmm.mean().numpy()=[1.49       0.69000006 0.39999998]')"
      ]
     },
     "execution_count": 14,
     "metadata": {},
     "output_type": "execute_result"
    },
    {
     "data": {
      "image/png": "[encoded data removed]",
      "text/plain": [
       "<Figure size 900x450 with 1 Axes>"
      ]
     },
     "metadata": {
      "needs_background": "light"
     },
     "output_type": "display_data"
    }
   ],
   "source": [
    "v = gmm.prob(x)\n",
    "m = gmm.mean()\n",
    "\n",
    "fig = plt.figure(figsize=(10,5), dpi=90)\n",
    "plt.plot(x, v,'.-');\n",
    "#plt.plot(x, vv[:,0],'.-');\n",
    "plt.title('gmm.mean().numpy()={}'.format(m))\n",
    "#print(gmm.mean().numpy())  # 23.0"
   ]
  },
  {
   "cell_type": "markdown",
   "metadata": {},
   "source": [
    "https://www.tensorflow.org/probability/api_docs/python/tfp/distributions/MixtureSameFamily"
   ]
  }
 ],
 "metadata": {
  "kernelspec": {
   "display_name": "Python 3",
   "language": "python",
   "name": "python3"
  },
  "language_info": {
   "codemirror_mode": {
    "name": "ipython",
    "version": 3
   },
   "file_extension": ".py",
   "mimetype": "text/x-python",
   "name": "python",
   "nbconvert_exporter": "python",
   "pygments_lexer": "ipython3",
   "version": "3.6.8"
  }
 },
 "nbformat": 4,
 "nbformat_minor": 2
}
